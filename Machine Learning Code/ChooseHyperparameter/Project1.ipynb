{
 "cells": [
  {
   "cell_type": "code",
   "execution_count": 6,
   "id": "4386525d",
   "metadata": {},
   "outputs": [],
   "source": [
    "import torchvision\n",
    "from torchvision import datasets\n",
    "import numpy\n",
    "import matplotlib.pyplot as plt\n",
    "import sklearn.preprocessing"
   ]
  },
  {
   "cell_type": "code",
   "execution_count": 8,
   "id": "9b96c3e5",
   "metadata": {},
   "outputs": [],
   "source": [
    "# Data download and preprocessing\n",
    "DOWNLOAD_MNIST = True# If already download , set as False\n",
    "train_data = datasets.MNIST (\n",
    "    root =\"./ mnist /\", \n",
    "    train = True , # this is training data\n",
    "    # transform = torchvision . transforms . ToTensor () , \n",
    "    download = DOWNLOAD_MNIST ,\n",
    ")\n",
    "test_data = torchvision.datasets.MNIST ( root ='./ mnist /', train = False )\n",
    "\n",
    "# change the features to numpy\n",
    "X_train = train_data.train_data.numpy()\n",
    "X_test = test_data.test_data.numpy()\n",
    "\n",
    "# change the labels to numpy\n",
    "Y_train = train_data.train_labels.numpy()\n",
    "Y_test = test_data.test_labels.numpy()"
   ]
  },
  {
   "cell_type": "markdown",
   "id": "72ec8863-da93-4c8e-b9cf-6b6f8457ad19",
   "metadata": {},
   "source": [
    "### 1. Familiarize with the data"
   ]
  },
  {
   "cell_type": "markdown",
   "id": "fbb0f44b-9150-4624-9d2d-be7f0d689a33",
   "metadata": {},
   "source": [
    "#### a."
   ]
  },
  {
   "cell_type": "code",
   "execution_count": 9,
   "id": "364fe48b",
   "metadata": {},
   "outputs": [
    {
     "data": {
      "text/plain": [
       "<matplotlib.image.AxesImage at 0x29eaf5f70>"
      ]
     },
     "execution_count": 9,
     "metadata": {},
     "output_type": "execute_result"
    },
    {
     "data": {
      "image/png": "[encoded data removed]",
      "text/plain": [
       "<Figure size 432x288 with 1 Axes>"
      ]
     },
     "metadata": {
      "needs_background": "light"
     },
     "output_type": "display_data"
    }
   ],
   "source": [
    "plt.imshow(X_train[0].reshape(28,28))"
   ]
  },
  {
   "cell_type": "code",
   "execution_count": 10,
   "id": "cdcd4982",
   "metadata": {},
   "outputs": [
    {
     "data": {
      "text/plain": [
       "5"
      ]
     },
     "execution_count": 10,
     "metadata": {},
     "output_type": "execute_result"
    }
   ],
   "source": [
    "Y_train[0]"
   ]
  },
  {
   "cell_type": "markdown",
   "id": "ab460d40-8680-4afd-b15d-a030bbb98554",
   "metadata": {},
   "source": [
    "The number I see in the X_train is the same as the lable in Y_train."
   ]
  },
  {
   "cell_type": "markdown",
   "id": "49c1a9aa-7a18-4521-90c8-1229171fa3c5",
   "metadata": {},
   "source": [
    "#### b."
   ]
  },
  {
   "cell_type": "code",
   "execution_count": 11,
   "id": "1d20c259",
   "metadata": {},
   "outputs": [
    {
     "name": "stdout",
     "output_type": "stream",
     "text": [
      "X_train Shape: (60000, 28, 28)\n",
      "X_test Shape: (10000, 28, 28)\n"
     ]
    }
   ],
   "source": [
    "# Get dimensions\n",
    "print('X_train Shape:',X_train.shape)\n",
    "print('X_test Shape:',X_test.shape)"
   ]
  },
  {
   "cell_type": "code",
   "execution_count": 12,
   "id": "341b3061",
   "metadata": {},
   "outputs": [],
   "source": [
    "# Normalize X_train and X_test\n",
    "min_max_scaler = sklearn.preprocessing.MinMaxScaler()\n",
    "scaled_x_train = min_max_scaler.fit_transform(X_train.reshape(-1,784))\n",
    "scaled_x_test = min_max_scaler.fit_transform(X_test.reshape(-1,784))"
   ]
  },
  {
   "cell_type": "markdown",
   "id": "4da28fce-af05-45fd-b3b8-7aae4eff6d7b",
   "metadata": {},
   "source": [
    "#### c."
   ]
  },
  {
   "cell_type": "code",
   "execution_count": 27,
   "id": "1a212e14",
   "metadata": {
    "scrolled": true
   },
   "outputs": [],
   "source": [
    "one_hot = sklearn.preprocessing.OneHotEncoder()\n",
    "Y_train_one_hot = one_hot.fit_transform(Y_train.reshape(-1,1))\n",
    "Y_test_one_hot = one_hot.fit_transform(Y_test.reshape(-1,1))"
   ]
  },
  {
   "cell_type": "markdown",
   "id": "e283cada-7c07-4b41-a413-69207cd702a7",
   "metadata": {},
   "source": [
    "Using one hot embedding helps us to calculate the distance between labels for mse. For instance, the distance between 10 and 1 equals to the distance between 1 and 2."
   ]
  },
  {
   "cell_type": "markdown",
   "id": "5d4a80b9-b192-44a0-a84b-de77b8fd92bf",
   "metadata": {},
   "source": [
    "### 2"
   ]
  },
  {
   "cell_type": "markdown",
   "id": "af39a7a1-ae2c-4cdf-b6a0-72364df82c0f",
   "metadata": {},
   "source": [
    "#### (a). KNN"
   ]
  },
  {
   "cell_type": "code",
   "execution_count": 37,
   "id": "e4647e2f",
   "metadata": {},
   "outputs": [
    {
     "name": "stdout",
     "output_type": "stream",
     "text": [
      "K= 2 accuracy: 0.9627 error rate: 0.0373\n",
      "K= 3 accuracy: 0.9705 error rate: 0.02949999999999997\n",
      "K= 4 accuracy: 0.9682 error rate: 0.03180000000000005\n",
      "K= 5 accuracy: 0.9688 error rate: 0.031200000000000006\n",
      "K= 6 accuracy: 0.9677 error rate: 0.032299999999999995\n",
      "K= 7 accuracy: 0.9694 error rate: 0.03059999999999996\n"
     ]
    }
   ],
   "source": [
    "from sklearn.neighbors import KNeighborsClassifier\n",
    "for i in  range(2,8):\n",
    "    model = KNeighborsClassifier(n_neighbors=i)\n",
    "    # Train the model using the training sets\n",
    "    model.fit(scaled_x_train,Y_train)\n",
    "    predicted= model.predict(scaled_x_test) \n",
    "    c = (predicted == Y_test)\n",
    "    print('K=',i, 'accuracy:', numpy.mean(c), 'error rate:', 1-numpy.mean(c))\n"
   ]
  },
  {
   "cell_type": "markdown",
   "id": "3f88b920-414c-4bbb-ac7d-6df7506cc553",
   "metadata": {},
   "source": [
    "For K=3, we got the smallest error rate 2.9%, which is even smaller than the test error 5%."
   ]
  },
  {
   "cell_type": "markdown",
   "id": "81cd8952-2c39-465b-92a5-c12122aba34d",
   "metadata": {},
   "source": [
    "#### (a). Adaboost.M1/C4.5"
   ]
  },
  {
   "cell_type": "code",
   "execution_count": 52,
   "id": "a1be2038",
   "metadata": {},
   "outputs": [
    {
     "name": "stdout",
     "output_type": "stream",
     "text": [
      "depth: 1 Accuracy: 0.7071\n",
      "depth: 2 Accuracy: 0.7712\n",
      "depth: 3 Accuracy: 0.8302\n",
      "depth: 4 Accuracy: 0.8081\n",
      "depth: 5 Accuracy: 0.8068\n",
      "depth: 6 Accuracy: 0.848\n",
      "depth: 7 Accuracy: 0.8721\n"
     ]
    }
   ],
   "source": [
    "from sklearn.ensemble import AdaBoostClassifier\n",
    "from sklearn.tree import DecisionTreeClassifier\n",
    "from sklearn import metrics\n",
    "for i in range(1,8):\n",
    "        model = AdaBoostClassifier(base_estimator=DecisionTreeClassifier(max_depth=i), n_estimators=30)\n",
    "        # Train the model using the training sets\n",
    "        model.fit(scaled_x_train,Y_train)\n",
    "        predicted= model.predict(scaled_x_test) \n",
    "        print('depth:',i,\"Accuracy:\",metrics.accuracy_score(Y_test, predicted))"
   ]
  },
  {
   "cell_type": "code",
   "execution_count": 56,
   "id": "68d5bf36",
   "metadata": {},
   "outputs": [
    {
     "name": "stdout",
     "output_type": "stream",
     "text": [
      "depth: 8 Accuracy: 0.8989\n",
      "depth: 9 Accuracy: 0.9164\n",
      "depth: 10 Accuracy: 0.9292\n"
     ]
    }
   ],
   "source": [
    "for i in range(8,11):\n",
    "    model = AdaBoostClassifier(base_estimator=DecisionTreeClassifier(max_depth=i), n_estimators=30)\n",
    "        # Train the model using the training sets\n",
    "    model.fit(scaled_x_train,Y_train)\n",
    "    predicted= model.predict(scaled_x_test) \n",
    "    print('depth:',i,\"Accuracy:\",metrics.accuracy_score(Y_test, predicted))"
   ]
  },
  {
   "cell_type": "code",
   "execution_count": 57,
   "id": "5c99c93a",
   "metadata": {},
   "outputs": [
    {
     "name": "stdout",
     "output_type": "stream",
     "text": [
      "n_estimators: 10 Accuracy: 0.8821\n",
      "n_estimators: 20 Accuracy: 0.9112\n",
      "n_estimators: 30 Accuracy: 0.9246\n",
      "n_estimators: 40 Accuracy: 0.9378\n",
      "n_estimators: 50 Accuracy: 0.9418\n",
      "n_estimators: 60 Accuracy: 0.9471\n",
      "n_estimators: 70 Accuracy: 0.9471\n",
      "n_estimators: 80 Accuracy: 0.9537\n"
     ]
    }
   ],
   "source": [
    "from sklearn.ensemble import AdaBoostClassifier\n",
    "from sklearn.tree import DecisionTreeClassifier\n",
    "from sklearn import metrics\n",
    "for j in range(10,90,10):\n",
    "        model = AdaBoostClassifier(base_estimator=DecisionTreeClassifier(max_depth=10), n_estimators=j)\n",
    "        # Train the model using the training sets\n",
    "        model.fit(scaled_x_train,Y_train)\n",
    "        predicted= model.predict(scaled_x_test) \n",
    "        print('n_estimators:',j,\"Accuracy:\",metrics.accuracy_score(Y_test, predicted))"
   ]
  },
  {
   "cell_type": "code",
   "execution_count": 61,
   "id": "e22f933b",
   "metadata": {},
   "outputs": [
    {
     "name": "stdout",
     "output_type": "stream",
     "text": [
      "n_estimators: 90 Accuracy: 0.9555\n"
     ]
    }
   ],
   "source": [
    "model = AdaBoostClassifier(base_estimator=DecisionTreeClassifier(max_depth=10), n_estimators=90)\n",
    "        # Train the model using the training sets\n",
    "model.fit(scaled_x_train,Y_train)\n",
    "predicted= model.predict(scaled_x_test) \n",
    "print('n_estimators: 90',\"Accuracy:\",metrics.accuracy_score(Y_test, predicted))"
   ]
  },
  {
   "cell_type": "markdown",
   "id": "d1bbb447-e61a-4fa8-80d1-e8b947423dc8",
   "metadata": {},
   "source": [
    "For this model, we choose max_depth = 10 and n_estimators = 90. The accuracy rate is 95.55%, and the error rate is 4.45%. It is quite close to the test error 4.05%."
   ]
  },
  {
   "cell_type": "markdown",
   "id": "e09e990e-38dd-40ff-ad6a-ade7b9d6e40f",
   "metadata": {},
   "source": [
    "#### (a). SVM with Gaussian Kernel"
   ]
  },
  {
   "cell_type": "code",
   "execution_count": null,
   "id": "b0e4f278",
   "metadata": {},
   "outputs": [
    {
     "name": "stdout",
     "output_type": "stream",
     "text": [
      "C= 0.1 Accuracy: 0.9166\n",
      "C= 1 Accuracy: 0.9446\n",
      "C= 100 Accuracy: 0.9761\n",
      "C= 1000 Accuracy: 0.975\n",
      "C= 10 Accuracy: 0.9614\n"
     ]
    }
   ],
   "source": [
    "from sklearn.svm import SVC\n",
    "for i in {0.01, 0.1, 1, 10, 100, 1000}:\n",
    "    model = SVC(kernel=\"rbf\", gamma=\"auto\", C=i)\n",
    "    # Train the model using the training sets\n",
    "    model.fit(scaled_x_train,Y_train)\n",
    "    predicted= model.predict(scaled_x_test) \n",
    "    print('C=',i,\"Accuracy:\",metrics.accuracy_score(Y_test, predicted))"
   ]
  },
  {
   "cell_type": "code",
   "execution_count": 66,
   "id": "4a8c9495",
   "metadata": {},
   "outputs": [
    {
     "name": "stdout",
     "output_type": "stream",
     "text": [
      "C= 0.1 Accuracy: 0.9595\n",
      "C= 1 Accuracy: 0.9793\n",
      "C= 100 Accuracy: 0.9834\n",
      "C= 1000 Accuracy: 0.9834\n",
      "C= 10 Accuracy: 0.9838\n",
      "C= 0.01 Accuracy: 0.9258\n"
     ]
    }
   ],
   "source": [
    "from sklearn.svm import SVC\n",
    "for i in {0.01, 0.1, 1, 10, 100, 1000}:\n",
    "    model = SVC(kernel=\"rbf\", C=i)\n",
    "    # Train the model using the training sets\n",
    "    model.fit(scaled_x_train,Y_train)\n",
    "    predicted= model.predict(scaled_x_test) \n",
    "    print('C=',i,\"Accuracy:\",metrics.accuracy_score(Y_test, predicted))"
   ]
  },
  {
   "cell_type": "markdown",
   "id": "79e8d88e-d148-463c-94f4-f7b16ebb4bc9",
   "metadata": {},
   "source": [
    "When using C = 10, and gamma = 'scale', we got the highest accuracy 98.34%. The error rate of this model is 1.64%. It is close to the test error 1.4%."
   ]
  },
  {
   "cell_type": "markdown",
   "id": "5655b58f-dbcd-451f-b159-585ea65e2e5f",
   "metadata": {},
   "source": [
    "#### (b). Pick favorite classifier."
   ]
  },
  {
   "cell_type": "code",
   "execution_count": 33,
   "id": "c2f49d3c-20ac-4180-81c1-5445172bbf08",
   "metadata": {},
   "outputs": [
    {
     "name": "stdout",
     "output_type": "stream",
     "text": [
      "Model: \"sequential_8\"\n",
      "_________________________________________________________________\n",
      " Layer (type)                Output Shape              Param #   \n",
      "=================================================================\n",
      " conv2d_12 (Conv2D)          (None, 26, 26, 32)        320       \n",
      "                                                                 \n",
      " max_pooling2d_12 (MaxPoolin  (None, 13, 13, 32)       0         \n",
      " g2D)                                                            \n",
      "                                                                 \n",
      " dropout_7 (Dropout)         (None, 13, 13, 32)        0         \n",
      "                                                                 \n",
      " conv2d_13 (Conv2D)          (None, 11, 11, 64)        18496     \n",
      "                                                                 \n",
      " max_pooling2d_13 (MaxPoolin  (None, 5, 5, 64)         0         \n",
      " g2D)                                                            \n",
      "                                                                 \n",
      " dropout_8 (Dropout)         (None, 5, 5, 64)          0         \n",
      "                                                                 \n",
      " flatten_6 (Flatten)         (None, 1600)              0         \n",
      "                                                                 \n",
      " dense_11 (Dense)            (None, 128)               204928    \n",
      "                                                                 \n",
      " dense_12 (Dense)            (None, 10)                1290      \n",
      "                                                                 \n",
      "=================================================================\n",
      "Total params: 225,034\n",
      "Trainable params: 225,034\n",
      "Non-trainable params: 0\n",
      "_________________________________________________________________\n",
      "Epoch 1/20\n",
      "422/422 [==============================] - 8s 17ms/step - loss: 0.2621 - accuracy: 0.9180 - val_loss: 0.0691 - val_accuracy: 0.9820\n",
      "Epoch 2/20\n",
      "422/422 [==============================] - 7s 17ms/step - loss: 0.0749 - accuracy: 0.9766 - val_loss: 0.0461 - val_accuracy: 0.9882\n",
      "Epoch 3/20\n",
      "422/422 [==============================] - 7s 17ms/step - loss: 0.0570 - accuracy: 0.9821 - val_loss: 0.0404 - val_accuracy: 0.9885\n",
      "Epoch 4/20\n",
      "422/422 [==============================] - 7s 17ms/step - loss: 0.0446 - accuracy: 0.9861 - val_loss: 0.0352 - val_accuracy: 0.9895\n",
      "Epoch 5/20\n",
      "422/422 [==============================] - 7s 16ms/step - loss: 0.0376 - accuracy: 0.9878 - val_loss: 0.0341 - val_accuracy: 0.9905\n",
      "Epoch 6/20\n",
      "422/422 [==============================] - 7s 17ms/step - loss: 0.0319 - accuracy: 0.9896 - val_loss: 0.0368 - val_accuracy: 0.9898\n",
      "Epoch 7/20\n",
      "422/422 [==============================] - 7s 16ms/step - loss: 0.0275 - accuracy: 0.9909 - val_loss: 0.0344 - val_accuracy: 0.9908\n",
      "Epoch 8/20\n",
      "422/422 [==============================] - 7s 16ms/step - loss: 0.0249 - accuracy: 0.9923 - val_loss: 0.0309 - val_accuracy: 0.9918\n",
      "Epoch 9/20\n",
      "422/422 [==============================] - 7s 16ms/step - loss: 0.0218 - accuracy: 0.9927 - val_loss: 0.0297 - val_accuracy: 0.9915\n",
      "Epoch 10/20\n",
      "422/422 [==============================] - 7s 17ms/step - loss: 0.0203 - accuracy: 0.9931 - val_loss: 0.0333 - val_accuracy: 0.9915\n",
      "Epoch 11/20\n",
      "422/422 [==============================] - 7s 17ms/step - loss: 0.0172 - accuracy: 0.9942 - val_loss: 0.0314 - val_accuracy: 0.9918\n",
      "Epoch 12/20\n",
      "422/422 [==============================] - 7s 16ms/step - loss: 0.0177 - accuracy: 0.9943 - val_loss: 0.0334 - val_accuracy: 0.9918\n",
      "Epoch 13/20\n",
      "422/422 [==============================] - 7s 16ms/step - loss: 0.0155 - accuracy: 0.9951 - val_loss: 0.0278 - val_accuracy: 0.9937\n",
      "Epoch 14/20\n",
      "422/422 [==============================] - 7s 17ms/step - loss: 0.0141 - accuracy: 0.9951 - val_loss: 0.0269 - val_accuracy: 0.9933\n",
      "Epoch 15/20\n",
      "422/422 [==============================] - 7s 16ms/step - loss: 0.0128 - accuracy: 0.9956 - val_loss: 0.0357 - val_accuracy: 0.9915\n",
      "Epoch 16/20\n",
      "422/422 [==============================] - 7s 16ms/step - loss: 0.0126 - accuracy: 0.9957 - val_loss: 0.0297 - val_accuracy: 0.9935\n",
      "Epoch 17/20\n",
      "422/422 [==============================] - 7s 17ms/step - loss: 0.0112 - accuracy: 0.9961 - val_loss: 0.0274 - val_accuracy: 0.9937\n",
      "Epoch 18/20\n",
      "422/422 [==============================] - 7s 16ms/step - loss: 0.0102 - accuracy: 0.9967 - val_loss: 0.0274 - val_accuracy: 0.9938\n",
      "Epoch 19/20\n",
      "422/422 [==============================] - 7s 17ms/step - loss: 0.0102 - accuracy: 0.9966 - val_loss: 0.0327 - val_accuracy: 0.9930\n",
      "Epoch 20/20\n",
      "422/422 [==============================] - 7s 17ms/step - loss: 0.0094 - accuracy: 0.9968 - val_loss: 0.0324 - val_accuracy: 0.9932\n"
     ]
    },
    {
     "data": {
      "text/plain": [
       "<keras.callbacks.History at 0x3694936d0>"
      ]
     },
     "execution_count": 33,
     "metadata": {},
     "output_type": "execute_result"
    }
   ],
   "source": [
    "from tensorflow import keras\n",
    "from tensorflow.keras import layers\n",
    "\n",
    "# Model / data parameters\n",
    "input_shape = (28, 28, 1)\n",
    "\n",
    "x_train = X_train/255\n",
    "x_test = X_test/255\n",
    "x_train = numpy.expand_dims(x_train, -1)\n",
    "x_test = numpy.expand_dims(x_test, -1)\n",
    "y_train = keras.utils.to_categorical(Y_train, 10)\n",
    "y_test = keras.utils.to_categorical(Y_test, 10)\n",
    "\n",
    "model = keras.Sequential(\n",
    "    [\n",
    "        keras.Input(shape=(28,28,1)),\n",
    "        layers.Conv2D(32, kernel_size=(3, 3), activation=\"relu\"),\n",
    "        layers.MaxPooling2D(pool_size=(2, 2)),\n",
    "        layers.Dropout(0.25),\n",
    "        layers.Conv2D(64, kernel_size=(3, 3), activation=\"relu\"),\n",
    "        layers.MaxPooling2D(pool_size=(2, 2)),\n",
    "        layers.Dropout(0.25),\n",
    "        layers.Flatten(),\n",
    "        tf.keras.layers.Dense(128, activation=\"relu\"),\n",
    "        layers.Dense(10, activation=\"softmax\"),\n",
    "    ]\n",
    ")\n",
    "\n",
    "model.summary()\n",
    "model.compile(loss=\"categorical_crossentropy\", optimizer=tf.keras.optimizers.Nadam(0.001), metrics=[\"accuracy\"])\n",
    "model.fit(x_train, y_train, batch_size=128, epochs=20, validation_split=0.1)\n",
    "\n"
   ]
  },
  {
   "cell_type": "code",
   "execution_count": 37,
   "id": "a169addd-9126-47a2-b074-5472ce1676f9",
   "metadata": {},
   "outputs": [
    {
     "name": "stdout",
     "output_type": "stream",
     "text": [
      "Accuracy:  0.9933 Error Rate:  0.0067\n"
     ]
    }
   ],
   "source": [
    "score = model.evaluate(x_test, y_test, verbose=0)\n",
    "print('Accuracy: ',round(score[1],4), 'Error Rate: ', round(1-score[1],4))"
   ]
  },
  {
   "cell_type": "markdown",
   "id": "d8db8933-d276-4d69-80a3-78e6d95c7dbb",
   "metadata": {},
   "source": [
    "I pick the neural network model CGG. The accuracy of this model is 99.33%, and error rate is 0.67%. It out perform all three of the classifier I implemented in part 2(a)."
   ]
  }
 ],
 "metadata": {
  "kernelspec": {
   "display_name": "Python 3 (ipykernel)",
   "language": "python",
   "name": "python3"
  },
  "language_info": {
   "codemirror_mode": {
    "name": "ipython",
    "version": 3
   },
   "file_extension": ".py",
   "mimetype": "text/x-python",
   "name": "python",
   "nbconvert_exporter": "python",
   "pygments_lexer": "ipython3",
   "version": "3.9.7"
  }
 },
 "nbformat": 4,
 "nbformat_minor": 5
}
